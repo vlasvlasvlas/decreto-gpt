{
 "cells": [
  {
   "cell_type": "markdown",
   "metadata": {},
   "source": [
    "# Decreto Milei GPT Analyze\n",
    "\n",
    "## Que es esto?\n",
    "\n",
    "forma parte del repo git https://github.com/vlasvlasvlas/decreto-gpt.\n",
    "\n",
    "## Porqué?\n",
    "\n",
    "Para entender de que va el decreto.\n",
    "\n",
    "## Cómo?\n",
    "\n",
    "Descargando los scripts o corriendo la notebook y pudiendo asi entender los componentes del decreto haciendole preguntas al documento pdf.\n",
    "Pasos\n",
    "\n",
    "- levantar un entorno virtual o instalando python 3.10+\n",
    "\n",
    "- instalar las dependencias del requirements.txt\n",
    "\n",
    "- ejecutar el test.py o revisar el notebook.\n"
   ]
  },
  {
   "cell_type": "code",
   "execution_count": 19,
   "metadata": {},
   "outputs": [],
   "source": [
    "import os\n",
    "from dotenv import load_dotenv\n",
    "\n",
    "import openai\n",
    "import PyPDF2\n",
    "\n",
    "from IPython.display import display, Markdown"
   ]
  },
  {
   "cell_type": "code",
   "execution_count": 37,
   "metadata": {},
   "outputs": [],
   "source": [
    "# Carga las variables de entorno desde el archivo .env\n",
    "load_dotenv()\n",
    "\n",
    "# Ahora puedes acceder a las variables de entorno usando la función `os.getenv()`\n",
    "api_key = os.getenv(\"API_KEY\")\n",
    "pdf_file = os.getenv(\"FILE_PDF\")\n"
   ]
  },
  {
   "cell_type": "code",
   "execution_count": 11,
   "metadata": {},
   "outputs": [],
   "source": [
    "\n",
    "# Configurar OpenAI\n",
    "openai.api_key = api_key\n",
    "\n",
    "\n",
    "def leer_pdf(ruta):\n",
    "    with open(ruta, 'rb') as pdf_file_obj:\n",
    "        pdf_reader = PyPDF2.PdfReader(pdf_file_obj)\n",
    "        \n",
    "        texto = \"\"\n",
    "        \n",
    "        # Utiliza len(pdf_reader.pages) en lugar de pdf_reader.numPages\n",
    "        for num_pagina in range(len(pdf_reader.pages)):\n",
    "            pagina = pdf_reader.pages[num_pagina]  # Utiliza pdf_reader.pages\n",
    "            texto += pagina.extract_text()  # Utiliza extract_text() en lugar de extractText()\n",
    "    \n",
    "    return texto\n",
    "\n",
    "#gpt-4-1106-preview\n",
    "#gpt-3.5-turbo-1106\n",
    "#gpt-3.5-turbo\n",
    "\n",
    "ai_model = 'gpt-4-1106-preview'\n"
   ]
  },
  {
   "cell_type": "code",
   "execution_count": 12,
   "metadata": {},
   "outputs": [],
   "source": [
    "\n",
    "# Leer el PDF\n",
    "ruta = pdf_file  # Reemplaza esto con la ruta a tu archivo PDF\n",
    "texto = leer_pdf(ruta)"
   ]
  },
  {
   "cell_type": "code",
   "execution_count": 36,
   "metadata": {},
   "outputs": [],
   "source": [
    "# Hacer una pregunta al texto\n",
    "def hacer_pregunta(texto, pregunta):\n",
    "    respuesta = openai.ChatCompletion.create(\n",
    "      model=ai_model,\n",
    "      messages=[\n",
    "            {\"role\": \"system\", \"content\": \"Estás analizando un decreto de necesidad de urgencia de la República Argentina. Comportate como el mejor analista político de la historia Argentina. Tenes que ser muy serio y preciso, y si no sabes que es algo tenes que poder decir que no lo sabes. Siempre que puedas, contextualizá tu respuesta.\"},\n",
    "            {\"role\": \"user\", \"content\": texto},\n",
    "            {\"role\": \"user\", \"content\": pregunta},\n",
    "        ]\n",
    "    )\n",
    "    return respuesta['choices'][0]['message']['content'].strip()\n",
    "\n",
    "def preguntarr(tupregunta):\n",
    "\n",
    "    # Hacer una pregunta al texto\n",
    "    pregunta = tupregunta  # Reemplaza esto con tu pregunta\n",
    "    respuesta = hacer_pregunta(texto, pregunta)\n",
    "\n",
    "    # Formatear la salida en Markdown\n",
    "    salida = f\"\"\"\n",
    "    # Pregunta\n",
    "    {pregunta}\n",
    "\n",
    "    # Respuesta\n",
    "    {respuesta}\n",
    "    \"\"\"\n",
    "\n",
    "    #print(salida)\n",
    "    display(Markdown(salida))"
   ]
  },
  {
   "cell_type": "code",
   "execution_count": 26,
   "metadata": {},
   "outputs": [
    {
     "data": {
      "text/markdown": [
       "\n",
       "    # Pregunta\n",
       "    ¿Cuál es el tema principal del documento?\n",
       "\n",
       "    # Respuesta\n",
       "    El tema principal del documento es la implementación de un Decreto de Necesidad y Urgencia (DNU) por parte del Poder Ejecutivo Nacional de la República Argentina, con el objetivo de abordar una situación de emergencia pública en múltiples áreas clave, incluyendo la economía, las finanzas, la fiscalidad, la administración, la previsión social, el sector tarifario, la sanidad y cuestiones sociales. Este DNU presenta un conjunto de medidas de desregulación económica, reformas del estado y del mercado laboral, y otras acciones enfocadas en reconstruir y revitalizar la economía argentina en respuesta a una profunda crisis que, según el decreto, pone en peligro el normal funcionamiento del país y el bienestar de su población.\n",
       "\n",
       "Las medidas propuestas son amplias y abarcan desde la derogación de leyes y reglamentos existentes que presuntamente obstaculizan la iniciativa privada y la eficiencia económica, hasta reformas estructurales en el sector público y las empresas del Estado. El decreto sugiere una transformación radical que incluye una drástica desregulación del mercado y medidas urgentes para restablecer la solidez fiscal.\n",
       "\n",
       "El DNU tiene el fin de resolver la herencia crítica recibida por la actual administración gubernamental, que enfrenta problemas significativos como altos déficits fiscales, inflación desenfrenada, restricciones cambiarias (cepo cambiario), niveles elevados de pobreza e indigencia, y un largo período de estancamiento económico. La intención es promover un cambio de paradigma económico y social basado en la libertad de mercado, la integración internacional y la modernización del Estado. Las medidas se presentan como inmediatas y necesarias para evitar un mayor deterioro de la situación socioeconómica del país.\n",
       "    "
      ],
      "text/plain": [
       "<IPython.core.display.Markdown object>"
      ]
     },
     "metadata": {},
     "output_type": "display_data"
    }
   ],
   "source": [
    "preguntarr('¿Cuál es el tema principal del documento?')"
   ]
  },
  {
   "cell_type": "code",
   "execution_count": 25,
   "metadata": {},
   "outputs": [
    {
     "data": {
      "text/markdown": [
       "\n",
       "    # Pregunta\n",
       "    dame bullets de todos los temas que trata el documento. sé preciso y completo.\n",
       "\n",
       "    # Respuesta\n",
       "    El Decreto de Necesidad y Urgencia (DNU) que estás presentando aborda una serie de medidas de amplio alcance en respuesta a una profunda crisis económica y social identificada por el gobierno actual de Argentina. Los principales temas que trata el documento se pueden resumir en los siguientes:\n",
       "\n",
       "1. **Declaración de Emergencia**: Se declara la emergencia pública en múltiples áreas, incluyendo economía, finanzas, fiscalidad, administración, seguridad social, tarifas, salud y sociedad, hasta diciembre de 2025.\n",
       "\n",
       "2. **Desregulación Económica**: Se propone la eliminación de barreras y restricciones estatales para favorecer el desarrollo económico y promover la inserción de Argentina en el comercio mundial.\n",
       "\n",
       "3. **Reforma del Estado**: Se plantea la transformación de entidades estatales en sociedades anónimas y se busca un marco legal que fomente la eficiencia y transparencia de dichas empresas.\n",
       "\n",
       "4. **Reforma Laboral**: Se proponen cambios significativos en la legislación laboral, incluyendo la simplificación del sistema de registro, la extensión del período de prueba, y la modificación de normativas relacionadas con contratos y convenios colectivos.\n",
       "\n",
       "5. **Reforma de Políticas Públicas y Regulaciones**: Se busca una revisión y derogación de leyes y disposiciones que, según el gobierno, obstaculizan el comercio, la producción y los servicios. Esto incluye una modernización del sistema aduanero y otras áreas como comercio, tarjetas de crédito y salud.\n",
       "\n",
       "6. **Políticas Monetarias y Fiscales**: Se refieren ajustes fiscales y monetarios orientados al control de la inflación y la restricción de la emisión de dinero.\n",
       "\n",
       "7. **Políticas de Inversión y Comercio**: Se pretende liberalizar operaciones de crédito, eliminar restricciones a la actividad económica para incentivar inversiones, y derogar ciertas leyes consideradas contraproducentes para el comercio exterior.\n",
       "\n",
       "8. **Fomento de la Competitividad**: Se busca mejorar la competencia y eficiencia en diversos sectores, incluyendo salud, agro, minería, y energía, mediante la revisión y posible derogación de leyes y regulaciones específicas.\n",
       "\n",
       "9. **Social y Salud**: Se plantean medidas para abordar los costos de servicios de salud y mejorar la accesibilidad de medicamentos y tecnologías médicas.\n",
       "\n",
       "10. **Reforma de Infraestructura y Transporte**: Se contempla la modernización de sistemas de transporte y la mejora de la infraestructura nacional.\n",
       "\n",
       "El documento presenta un panorama de crisis económica y social con la intención de justificar la urgencia de las medidas propuestas y contempla una amplia variedad de áreas y aspectos de la política y economía nacional para su implementación inmediata.\n",
       "    "
      ],
      "text/plain": [
       "<IPython.core.display.Markdown object>"
      ]
     },
     "metadata": {},
     "output_type": "display_data"
    }
   ],
   "source": [
    "preguntarr('dame bullets de todos los temas que trata el documento. sé preciso y completo.')"
   ]
  },
  {
   "cell_type": "code",
   "execution_count": 24,
   "metadata": {},
   "outputs": [
    {
     "data": {
      "text/markdown": [
       "\n",
       "    # Pregunta\n",
       "    contame sobre las reformas laborales y de trabajo. sé preciso y completo.\n",
       "\n",
       "    # Respuesta\n",
       "    El Decreto de Necesidad y Urgencia (DNU) propone una serie de reformas laborales y en las regulaciones del trabajo con el objeto de simplificar procedimientos y flexibilizar la legislación vigente. Es importante destacar que las modificaciones en la legislación laboral pueden tener un profundo impacto en las relaciones entre empleadores y empleados, y en la economía en general. Aquí se enumeran algunas de las reformas laborales y de trabajo más significativas propuestas en el DNU:\n",
       "\n",
       "1. Periodo de Prueba: El artículo 92 bis de la Ley N° 20.744 (t.o. 1976) se modifica para extender el período de prueba a ocho meses durante los cuales cualquiera de las partes puede extinguir el contrato sin necesidad de expresar causa y sin derecho a indemnización por la extinción, pero con obligación de preaviso.\n",
       "\n",
       "2. Registro Laboral: El artículo 7° de la Ley N° 24.013 se sustituye por una nueva redacción que establece la necesidad de que la registración laboral sea simple, inmediata, expeditiva y realizada a través de medios electrónicos.\n",
       "\n",
       "3. Irrenunciabilidad: Se mantienen las disposiciones de irrenunciabilidad de derechos acordados en la Ley de Contrato de Trabajo, salvo en el caso de acuerdos mutuos de desvinculación contemplados en el artículo 241 de la Ley N° 20.744, siempre que sean homologados por la autoridad de aplicación.\n",
       "\n",
       "4. Presunción de Contrato de Trabajo: Se modifica el artículo 23 de la Ley N° 20.744 para precisar las condiciones en las que se presume la existencia del contrato de trabajo y se especifican excepciones para contrataciones de obra o servicios profesionales.\n",
       "\n",
       "5. Recibos de Sueldo: Se promueve la digitalización de recibos de sueldo para agilizar y simplificar procesos administrativos.\n",
       "\n",
       "6. Trabajo Femenino o de Persona Gestante: Se reforma la reglamentación sobre la licencia por maternidad, especificando la duración y las condiciones para la extensión del período de licencia pre y postnatal.\n",
       "\n",
       "7. Responsabilidad Solidaria: Se clarifican las condiciones de solidaridad en empleadores principales y contratistas o intermediarios, así como los mecanismos de retención por parte del empleador principal de los montos adeudados por contratistas o intermediarios.\n",
       "\n",
       "8. Modificaciones en Convenciones Colectivas: Se introduce la posibilidad de que las convenciones colectivas de trabajo establezcan regímenes laborales más flexibles, atendiendo a las características de cada actividad, incluyendo el manejo de horas extras y la implementación de bancos de horas.\n",
       "\n",
       "Es importante señalar que estas reformas deben ser leídas con atención y deben considerarse en el contexto de las negociaciones entre sindicatos, empleadores y el gobierno. Además, pueden ser objeto de debate político y social, y es probable que los distintos grupos de interés expresen tanto apoyo como críticas a las medidas propuestas. Asimismo, estas reformas están sujetas al control de constitucionalidad y pueden ser revisadas por el Poder Legislativo y Judicial.\n",
       "    "
      ],
      "text/plain": [
       "<IPython.core.display.Markdown object>"
      ]
     },
     "metadata": {},
     "output_type": "display_data"
    }
   ],
   "source": [
    "preguntarr('contame sobre las reformas laborales y de trabajo. sé preciso y completo.')"
   ]
  },
  {
   "cell_type": "code",
   "execution_count": 27,
   "metadata": {},
   "outputs": [
    {
     "data": {
      "text/markdown": [
       "\n",
       "    # Pregunta\n",
       "    contame sobre las reformas en el sector público. sé preciso y completo.\n",
       "\n",
       "    # Respuesta\n",
       "    El decreto de necesidad y urgencia que estamos analizando presenta una serie de reformas dirigidas a transformar sustancialmente la estructura y el funcionamiento del sector público en Argentina. Estas reformas abarcan aspectos institucionales, legales y operativos, con el objetivo explicito de aumentar la eficiencia, la transparencia y la capacidad de la gestión del Estado, así como también reducir el déficit fiscal. A continuación, se detallan los cambios más relevantes en este ámbito:\n",
       "\n",
       "1. **Transformación de empresas del Estado en Sociedades Anónimas**: Se establece que todas las sociedades o empresas con participación estatal deberán transformarse en Sociedades Anónimas, independientemente de la forma jurídica que hayan adoptado anteriormente. Esto comprende Entes Autárquicos, Empresas del Estado, Sociedades del Estado y cualquier otra organización en la que el Estado nacional tenga participación en el capital o en la formación de decisiones societarias. Estas Sociedades Anónimas serán regidas por la Ley General de Sociedades y no gozarán de prerrogativas de derecho público, debiendo actuar en igualdad de condiciones con las sociedades sin participación estatal.\n",
       "\n",
       "2. **Eliminación de figuras jurídicas específicas**: Se propone la derogación de normativas que regulaban figuras jurídicas como las Sociedades del Estado (Ley N° 20.705), las Empresas del Estado (Ley N° 13.653) y las Sociedades de Economía Mixta (Decreto - Ley N° 15.349/46).\n",
       "\n",
       "3. **Reorganización y simplificación de empresas públicas**: Se plantea una reorganización profunda de las empresas públicas, con la posibilidad de que en un plazo de 180 días, la Autoridad de Aplicación proceda a la aplicación de la transformación dispuesta en Sociedades Anónimas.\n",
       "\n",
       "4. **Regulaciones de entidades de la Administración Pública**: Las entidades con participación estatal mayoritaria continuarán sujetas a la Ley N° 24.156 y sus modificaciones, la cual regula las operaciones de las empresas del Estado. Sin embargo, las reformas buscan que estas entidades funcionen con más independencia y eficiencia, al tener que competir con el sector privado sin beneficios adicionales del Estado.\n",
       "\n",
       "5. **Potencial privatización o transferencia de acciones**: Se menciona la posibilidad de la transferencia de acciones de las empresas transformadas a sus empleados, en línea con las prerrogativas de la Ley N° 23.696, que regulaba las privatizaciones y reconversiones de empresas estatales en la década de 1990.\n",
       "\n",
       "6. **Derogación de organismos y entidades**: Se propone la supresión de la AGENCIA NACIONAL DE LABORATORIOS PÚBLICOS, creada por la Ley N° 27.113, y la derogación del Observatorio de Precios establecido por la Ley N° 26.992, como parte de un proceso de reducción de agencias y organismos considerados de baja productividad o relevancia.\n",
       "\n",
       "En resumen, las reformas planteadas buscan una mayor eficiencia y un modelo de gestión estatal más alineado con prácticas del sector privado, buscando mayor competitividad y menores costos operativos para el Estado. Estas reformas, si son implementadas de forma efectiva y con la transparencia requerida, podrían conducir a considerables cambios en la economía y la administración pública en Argentina. Sin embargo, es importante mencionar que estos cambios pueden traer consigo desafíos significativos y requieren una gestión cuidadosa para garantizar la continuidad de los servicios públicos y la protección de los derechos de los trabajadores del sector.\n",
       "    "
      ],
      "text/plain": [
       "<IPython.core.display.Markdown object>"
      ]
     },
     "metadata": {},
     "output_type": "display_data"
    }
   ],
   "source": [
    "preguntarr('contame sobre las reformas en el sector público. sé preciso y completo.')"
   ]
  },
  {
   "cell_type": "code",
   "execution_count": 29,
   "metadata": {},
   "outputs": [
    {
     "data": {
      "text/markdown": [
       "\n",
       "    # Pregunta\n",
       "    contame sobre las reformas en el sector multimedia y medios. sé preciso y completo.\n",
       "\n",
       "    # Respuesta\n",
       "    El decreto de necesidad y urgencia que se está analizando propone una serie de reformas en el sector multimedia y medios de comunicación que buscan liberalizar y desregular el mercado. Este conjunto de reformas es parte de una serie de cambios más extensos que el decreto establece en diferentes ámbitos de la economía y la administración pública. Aquí se presentan las reformas específicas para el sector multimedia y comunicaciones que se desprenden de la lectura del decreto:\n",
       "\n",
       "1. Reformas a la Ley de Medios de Comunicación Audiovisual N° 26.522 y sus modificatorias:\n",
       "   - Se propone suprimir las restricciones existentes sobre la multiplicidad de licencias a nivel nacional. Con esto, los grupos multimedia tendrían la posibilidad de ampliar su cantidad de medios sin estar sujetos a los límites previamente establecidos, lo cual podría incrementar la concentración de propiedad en el sector.\n",
       "\n",
       "2. Modificaciones a la Ley N° 27.078 \"Argentina Digital\":\n",
       "   - Se busca introducir cambios que faciliten mayores alternativas de desarrollo dentro del ámbito de las Tecnologías de la Información y Comunicación (TIC’s). No se detallan cuáles serían estas modificaciones, pero el énfasis está puesto en aumentar la libertad para el crecimiento y la competencia en el sector.\n",
       "\n",
       "3. Derogación de leyes y regulaciones:\n",
       "   - Se menciona la derogación de leyes anteriores que podrían estar relacionadas con restricciones en el sector mediático, aunque sin especificar cuáles son. Se entendería que cualquier derogación estaría alineada con el objetivo de reducir la intervención estatal y liberalizar el sector.\n",
       "\n",
       "El proyecto apunta a fomentar la competencia y desregular el mercado, basándose en una perspectiva que critica la intervención del Estado como una forma de impedir el desarrollo del sector. Sin embargo, estas reformas también podrían levantar preocupaciones relativas a la pluralidad y diversidad mediática, ya que podrían llevar a una concentración de la propiedad de los medios, afectando la oferta de perspectivas y voces independientes en el debate público.\n",
       "\n",
       "Es importante tener en cuenta que esta evaluación se realiza basándose únicamente en la información suministrada y que el análisis completo y definitivo dependería del contenido detallado en los artículos específicos del decreto y su reglamentación posterior. Además, cualquier decreto de necesidad y urgencia está sujeto a revisión y aprobación por parte de la Comisión Bicameral Permanente según la Ley Nº 26.122, lo que significa que la oposición o el consenso político podrían influir en su implementación final o en modificaciones al texto original.\n",
       "    "
      ],
      "text/plain": [
       "<IPython.core.display.Markdown object>"
      ]
     },
     "metadata": {},
     "output_type": "display_data"
    }
   ],
   "source": [
    "preguntarr('contame sobre las reformas en el sector multimedia y medios. sé preciso y completo.')"
   ]
  },
  {
   "cell_type": "code",
   "execution_count": 31,
   "metadata": {},
   "outputs": [
    {
     "data": {
      "text/markdown": [
       "\n",
       "    # Pregunta\n",
       "    contame sobre las reformas relacionadas al banceo central, el dolar y la moneda. sé preciso y completo.\n",
       "\n",
       "    # Respuesta\n",
       "    El decreto de necesidad y urgencia (DNU) presentado en su consulta describe una serie de medidas económicas y fiscales con el propósito de enfrentar y resolver las situaciones de crisis que hereda la administración actual de la República Argentina. Dentro del DNU se abordan aspectos vinculados al Banco Central de la República Argentina (BCRA), la política monetaria, la regulación del mercado cambiario y la moneda.\n",
       "\n",
       "### Banco Central de la República Argentina y Política Monetaria:\n",
       "\n",
       "El decreto menciona la necesidad de resolver la situación de los pasivos remunerados del BCRA, que son responsables de una parte significativa del déficit fiscal. Los pasivos remunerados hacen referencia a las Leliq (Letras de Liquidez) y a los pases pasivos, que son instrumentos por los cuales el BCRA remunera a las entidades financieras por el dinero que depositan en él.\n",
       "\n",
       "El decreto establece la intención de poner fin al déficit fiscal, así como a la emisión de dinero necesaria para financiarlo. Indica que esta medida, de ser implementada, ayudaría a combatir la inflación, identificada como la \"única causa empíricamente cierta y válida en términos teóricos\". Se admite, sin embargo, que aun cesando la emisión monetaria inmediatamente, los efectos inflacionarios del pasado continuarán manifestándose durante algún tiempo (18 a 24 meses) debido a los rezagos con los que opera la política monetaria.\n",
       "\n",
       "### Política Cambiaria y Mercado de Divisas:\n",
       "\n",
       "El decreto califica al \"cepo cambiario\", heredado de la administración anterior, como una política perjudicial que trajo consigo una serie de consecuencias negativas para la economía argentina: altas tasas de interés, bajo nivel de actividad económica, escaso empleo formal y reducción de los salarios reales, lo cual impulsó el aumento de la pobreza e indigencia. Se sugiere que estas políticas generaron un exceso de dinero en la economía.\n",
       "\n",
       "Se manifiesta la intención de eliminar las restricciones estatales y promover una mayor inserción de Argentina en el comercio mundial, lo que implica, entre otras medidas, liberalizar el mercado cambiario. Esta desregulación permitiría mayor libertad para las operaciones de cambio, reduciendo así las distorsiones que estas regulaciones generan sobre la economía.\n",
       "\n",
       "### Moneda y Emisión:\n",
       "\n",
       "En el texto se menciona que la administración anterior emitió moneda por un equivalente a 20 puntos del PIB, lo cual tendría efectos inflacionarios inevitables en el futuro. Además, se relaciona la posibilidad de un \"evento similar\" al \"Rodrigazo\" con el potencial de multiplicar por 12 la tasa de inflación.\n",
       "\n",
       "El decreto no especifica medidas concretas hacia la moneda en sí, fuera de las relacionadas con la emisión monetaria y los esfuerzos para detener la inflación. No se menciona, por ejemplo, una reforma en la convertibilidad de la moneda o cambios en su valor denominacional.\n",
       "\n",
       "En conclusión, el DNU se enfoca en la política fiscal y monetaria, con medidas para reducir el déficit del BCRA y una política de desregulación cambiaria. La crítica central a la gestión anterior resalta la emisión excesiva de moneda y la implementación de controles de cambio como prácticas que se buscarían revertir para estabilizar la economía y combatir la inflación. No obstante, es importante subrayar que las medidas propuestas en un DNU de este tipo, particularmente cuando se refieren a asuntos tan cruciales como la política monetaria y cambiaria, requerirían un análisis detallado de impactos, así como la consideración de factores externos e internos que afectan a la economía del país.\n",
       "    "
      ],
      "text/plain": [
       "<IPython.core.display.Markdown object>"
      ]
     },
     "metadata": {},
     "output_type": "display_data"
    }
   ],
   "source": [
    "preguntarr('contame sobre las reformas relacionadas al banceo central, el dolar y la moneda. sé preciso y completo.')"
   ]
  },
  {
   "cell_type": "code",
   "execution_count": 32,
   "metadata": {},
   "outputs": [
    {
     "data": {
      "text/markdown": [
       "\n",
       "    # Pregunta\n",
       "    contame sobre las reformas relacionadas al código civil y comercial. sé preciso y completo.\n",
       "\n",
       "    # Respuesta\n",
       "    El decreto de necesidad y urgencia que estás analizando propone una serie de reformas y derogaciones que alteran de manera significativa las regulaciones económicas y sociales en Argentina. Entre los muchos cambios indicados en el decreto, se encuentra la modificación del Código Civil y Comercial de la Nación, específicamente en lo que respecta a su régimen contractual.\n",
       "\n",
       "Las disposiciones relativas al Código Civil y Comercial que serían afectadas por este decreto buscan una liberalización y desregulación de las relaciones contractuales. Se hace mención a la vuelta a principios más liberales y menos intervencionistas, en línea con los originales del Código Civil redactado por Dalmacio Vélez Sarsfield en 1869, que estuvieron vigentes hasta la unificación del Código Civil y Comercial en 2015.\n",
       "\n",
       "El decreto cuestiona las normas imperativas existentes en la reforma del Código Civil y Comercial de 2015 que impiden, según el decreto, que las partes decidan libremente sobre la forma, el contenido y la ejecución de los contratos, llegando en algunos casos a imponer requisitos considerados excesivos para la validez de dichos acuerdos. Propone, por lo tanto, modificar o eliminar esas regulaciones para permitir una mayor libertad en el ámbito contractual.\n",
       "\n",
       "En particular, las reformas buscan facilitar y flexibilizar las condiciones de los contratos de locación, reconociendo que las normativas vigentes han tenido consecuencias negativas tanto para los locadores como para los locatarios, así como el mercado inmobiliario en su conjunto.\n",
       "\n",
       "Otras reformas importantes en esta área incluyen la derogación de la Ley de Alquileres N° 27.551, la cual incluyó modificaciones relativas a la duración de los contratos de alquiler, la actualización de los valores, y los derechos y obligaciones tanto de propietarios como de inquilinos.\n",
       "\n",
       "Además, se menciona la necesidad de respetar la voluntad de los ciudadanos en cuanto a las formas de cancelación de obligaciones en sumas de dinero, permitiendo determinar en los contratos la moneda en que se realizará el pago, sin que pueda el deudor o un juez intervenir para exigir el cumplimiento de la obligación en una moneda diferente, salvo acuerdo expreso entre las partes.\n",
       "\n",
       "Estas propuestas buscan otorgar un marco mucho más flexible y de libre mercado en donde la capacidad de las personas para determinar su propia relación contractual sea el principio rector, dejando de lado ciertas garantías y protecciones que la versión vigente del Código Civil y Comercial otorga.\n",
       "\n",
       "Es muy importante resaltar que estas reformas tendrían consecuencias profundas sobre la interpretación y la praxis del derecho civil y comercial en la República Argentina. Toda modificación sobre estas cuestiones, sustanciales y delicadas, deben ser evaluadas y debatidas profundamente y sujeta a los procesos legislativos correspondientes con participación de distintos actores sociales y expertos en la materia. La aplicación de un decreto de necesidad y urgencia para estos propósitos es, por naturaleza, cuestionable y debatible, ya que sobrepasa el usual procedimiento legislativo y el debate parlamentario.\n",
       "    "
      ],
      "text/plain": [
       "<IPython.core.display.Markdown object>"
      ]
     },
     "metadata": {},
     "output_type": "display_data"
    }
   ],
   "source": [
    "preguntarr('contame sobre las reformas relacionadas al código civil y comercial. sé preciso y completo.')"
   ]
  },
  {
   "cell_type": "code",
   "execution_count": 33,
   "metadata": {},
   "outputs": [
    {
     "data": {
      "text/markdown": [
       "\n",
       "    # Pregunta\n",
       "    contame sobre las reformas relacionadas a Reforma del Estado. sé preciso y completo.\n",
       "\n",
       "    # Respuesta\n",
       "    En el decreto de necesidad y urgencia proporcionado, se detallan una serie de reformas que buscan modificar la estructura y funcionamiento de las empresas del Estado en Argentina. Estas reformas están contenidas dentro del Título III – “REFORMA DEL ESTADO” y abarcan diversos aspectos organizacionales y legales. A continuación, se presenta un análisis detallado y preciso de las reformas planteadas en este sector:\n",
       "\n",
       "**Transformación de empresas del Estado en Sociedades Anónimas (Artículos 48 a 52):** Se establece que todas las sociedades o empresas con participación estatal, independientemente de su forma jurídica actual, deberán transformarse en Sociedades Anónimas reguladas por la Ley General de Sociedades N° 19.550, T.O. 1984 y sus modificatorias. Esto incluye Empresas del Estado, Sociedades del Estado, Sociedades Anónimas con Participación Estatal Mayoritaria, Sociedades de Economía Mixta, y cualquier otra forma societaria donde el Estado nacional tenga participación. Las empresas transformadas perderán cualquier prerrogativa de derecho público y no podrán recibir tratamiento preferencial del Estado en ningún tipo de contratación. Se dispone un periodo de transición máximo de 180 días a partir del dictado del decreto para la efectiva transformación, e inscripción en los Registros Públicos de Comercio correspondientes de las nuevas sociedades anónimas.\n",
       "\n",
       "**Exclusión de normativa de control estatal (Artículo 52):** La Ley N° 24.156 y demás normativa de control del sector público solo será aplicable a las Sociedades Anónimas resultantes de la transformación siempre que el Estado posea una participación accionaria mayoritaria.\n",
       "\n",
       "**Derogaciones de marcos legales específicos (Artículos 36 a 40):** Se derogan leyes y decretos que establecen distintas formas y disposiciones para empresas estatales y sociedades con participación estatal. Esto incluye la derogación del Decreto-Ley N° 15.349/46 que contemplaba las Sociedades de Economía Mixta, la Ley N° 13.653 que abarca las Empresas del Estado, la Ley N° 20.705 que establece las Sociedades del Estado, entre otras.\n",
       "\n",
       "**Modificaciones a la Ley de Reforma del Estado (Artículos 41 a 44):** Se realizan cambios en la Ley N° 23.696, conocida como Ley de Reforma del Estado, para ajustar disposiciones relativas a la participación de los empleados en programas de propiedad participada, adecuando y simplificando mecanismos de pago y garantías.\n",
       "\n",
       "Las reformas presentadas en este segmento del decreto reflejan un esfuerzo por reestructurar y modernizar las empresas estatales, buscando aumentar la eficiencia, claridad en el gobierno corporativo, y apertura a la participación de los empleados en la propiedad de dichas empresas. Estos cambios tienen implicaciones profundas en cómo el Estado argentino gestionará aquellos entes donde mantiene participación accionaria, enfocándose en un modelo más acorde con la lógica del sector privado y con un objetivo claro de disminuir la intervención estatal en la economía.\n",
       "\n",
       "Es importante aclarar que este análisis se basa en la descripción proporcionada y consideraciones expuestas en el texto del decreto. Dada la magnitud y complejidad de las medidas, se puede prever que su implementación será un proceso que requerirá de una regulación detallada y posiblemente enfrentará desafíos tanto legales como políticos y sociales.\n",
       "    "
      ],
      "text/plain": [
       "<IPython.core.display.Markdown object>"
      ]
     },
     "metadata": {},
     "output_type": "display_data"
    }
   ],
   "source": [
    "preguntarr('contame sobre las reformas relacionadas a Reforma del Estado. sé preciso y completo.')"
   ]
  },
  {
   "cell_type": "code",
   "execution_count": 34,
   "metadata": {},
   "outputs": [
    {
     "data": {
      "text/markdown": [
       "\n",
       "    # Pregunta\n",
       "    contame sobre las reformas de ley de alquileres, en detalle. sé preciso y completo.\n",
       "\n",
       "    # Respuesta\n",
       "    Dentro del extenso y detallado Decreto de Necesidad y Urgencia (DNU) presentado, la reforma a la Ley de Alquileres es un elemento que, en el contexto de las medidas propuestas, tiene por objeto liberalizar y desregular el mercado de alquileres de viviendas, con el fin de superar la crisis económica y emergencia que está atravesando la Argentina.\n",
       "\n",
       "Según el DNU, se realiza la derogación de la Ley de Alquileres N° 27.551, con el objetivo de restablecer la libertad contractual entre las partes y eliminando las regulaciones que se consideran han distorsionado y deteriorado el mercado inmobiliario. La Ley de Alquileres N° 27.551 había sido una normativa reciente, con intención de equilibrar las relaciones entre inquilinos y propietarios, estableciendo pautas como la extensión del plazo mínimo de los contratos a tres años y una actualización anual de los alquileres según un índice compuesto por la inflación y variación de salarios.\n",
       "\n",
       "Con la derogación de esta ley, se busca eliminar cualquier restricción que impida el libre acuerdo entre las partes por considerar que tales restricciones han producido efectos adversos como la disminución de la oferta de propiedades en alquiler y el aumento de los precios, afectando así a la accesibilidad de la vivienda. Además, la medida implica volver al esquema contractual previo en términos de duración de los contratos, actualización de los valores de los alquileres y otras condiciones que serán libradas a la negociación entre propietarios e inquilinos.\n",
       "\n",
       "En detalle, la derogación de la Ley N° 27.551 implica que:\n",
       "\n",
       "1. Se retoman las negociaciones de los contratos de alquiler bajo las Leyes precedentes a esta modificación, donde generalmente el plazo mínimo contractual era de dos años en lugar de tres.\n",
       "\n",
       "2. Las actualizaciones de precios de los alquileres dejan de estar sujetas a un índice gubernamental y pueden ser negociadas directamente entre las partes.\n",
       "\n",
       "3. Se elimina la protección especial en cuanto a las renovaciones y rescisiones anticipadas de los contratos, permitiendo mayor flexibilidad y dinamismo en el mercado.\n",
       "\n",
       "La justificación de estas acciones radica en la intención de reactivar el mercado inmobiliario y ofrecer mayor disponibilidad de viviendas en alquiler, con la expectativa de que una mayor oferta pueda moderar los precios y mejorar las condiciones para los inquilinos a la larga.\n",
       "\n",
       "Este esquema de liberalización y desregulación inmobiliaria está en línea con las medidas más amplias del DNU enfocadas en la desregulación económica, la promoción de la iniciativa privada y el aumento de la competencia en todos los sectores como mecanismo para revitalizar la economía argentina.\n",
       "    "
      ],
      "text/plain": [
       "<IPython.core.display.Markdown object>"
      ]
     },
     "metadata": {},
     "output_type": "display_data"
    }
   ],
   "source": [
    "preguntarr('contame sobre las reformas de ley de alquileres, en detalle. sé preciso y completo.')"
   ]
  },
  {
   "cell_type": "code",
   "execution_count": 38,
   "metadata": {},
   "outputs": [
    {
     "data": {
      "text/markdown": [
       "\n",
       "    # Pregunta\n",
       "    contame sobre las reformas relacionadas a obras sociales. sé preciso y completo.\n",
       "\n",
       "    # Respuesta\n",
       "    El Decreto de Necesidad y Urgencia (DNU) presentado no hace una mención directa con respecto a obras sociales específicamente. Sin embargo, sí aborda aspectos del sistema de salud que pueden tener un impacto indirecto en las obras sociales. \n",
       "\n",
       "Es posible destacar dos elementos principales que están relacionados indirectamente con las obras sociales:\n",
       "\n",
       "1. **Reformas en el sector farmacéutico:** El DNU menciona la necesidad de modificar leyes relacionadas a la trazabilidad y verificación de aptitud técnica de productos médicos (Ley N° 26.906) y la ley de medicamentos y recetas, incluyendo la migración a la receta electrónica. Estas reformas buscan incrementar la competitividad y reducir los precios de los medicamentos. Esto podría repercutir en las obras sociales al potencialmente disminuir el costo que estas tienen al proveer medicamentos a sus afiliados, además de modernizar y agilizar la prescripción y dispensación de medicamentos.\n",
       "\n",
       "2. **Sistema de salud:** Aunque no se menciona una reforma directa sobre las obras sociales, el DNU propone reducciones contundentes en los costos de las prestaciones de salud, lo que indirecamente podría tener un impacto en la gestión de las obras sociales, que son uno de los principales actores en el sistema de prestaciones de salud en Argentina.\n",
       "\n",
       "Las obras sociales en Argentina son entidades encargadas de la provisión de servicios de salud a sus afiliados, que están organizadas por actividad laboral y que, en conjunto con las entidades de medicina prepaga, componen el sistema de seguridad social en materia de salud. Las reformas mencionadas podrían requerir que las obras sociales ajusten sus políticas internas, su estructura de costos y posiblemente su modelo de atención.\n",
       "\n",
       "Cualquier cambio en la regulación que afecte de manera concreta y directa a las obras sociales debería ser buscado en el articulado específico del DNU o legislación complementaria que aborde dicha materia. En el caso de la información proporcionada, se mencionan aspectos periféricos que podrían afectar indirectamente la operación de las obras sociales, pero sin detallar medidas concretas sobre ellas.\n",
       "    "
      ],
      "text/plain": [
       "<IPython.core.display.Markdown object>"
      ]
     },
     "metadata": {},
     "output_type": "display_data"
    }
   ],
   "source": [
    "preguntarr('contame sobre las reformas relacionadas a obras sociales. sé preciso y completo.')"
   ]
  },
  {
   "cell_type": "code",
   "execution_count": 39,
   "metadata": {},
   "outputs": [
    {
     "data": {
      "text/markdown": [
       "\n",
       "    # Pregunta\n",
       "    profundizame todo lo relacionado con obras sociales y prepagas. sé preciso y completo.\n",
       "\n",
       "    # Respuesta\n",
       "    El decreto de necesidad y urgencia (DNU) emitido por el Poder Ejecutivo Nacional de Argentina incluye disposiciones que impactan directamente en el ámbito de las obras sociales y las empresas de medicina prepaga. A continuación, se ofrece un resumen analítico de las medidas relevantes:\n",
       "\n",
       "**Derogación de regulaciones sobre medicamentos y recetas:**\n",
       "- El DNU propone modificar la Ley N° 25.649, que establece el uso de medicamentos genéricos, y la Ley N° 27.553, en busca de incrementar la competencia en el sector y reducir los precios para los consumidores.\n",
       "- Se enuncia la necesidad de reformar la ley de medicamentos y recetas, migrando a la receta electrónica, con el objetivo de agilizar el sector y minimizar costos.\n",
       "\n",
       "**Reformas en la actividad farmacéutica:**\n",
       "- Modificaciones previstas en la Ley N° 17.565 de Ejercicio de la Actividad Farmacéutica y en la Ley N° 17.132 de Ejercicio de la Medicina tienen como propósito aumentar la competencia y abaratar los precios al usuario final.\n",
       "\n",
       "**Reforma del sistema de salubridad:**\n",
       "- El DNU menciona la imperiosa necesidad de lograr reducciones contundentes en los costos de las prestaciones de salud, lo que redundaría en un beneficio directo para la población general.\n",
       "- Se establece que las restricciones de precios se liberen para el sistema de medicina prepaga.\n",
       "- Se propone modificar la Ley N° 26.906 de Trazabilidad y Verificación de Aptitud Técnica de Productos Médicos para facilitar la implementación de equipamiento médico y reducir la burocracia.\n",
       "\n",
       "**Medicina Prepaga:**\n",
       "- La liberación de las restricciones de precios al sistema de medicina prepaga significa que podrían ajustarse los planes y la estructura de costos de los servicios ofrecidos.\n",
       "- Esta medida podría tener repercusiones en la accesibilidad y asequibilidad de los planes de salud para los consumidores y, por ende, en la selección de cobertura de salud por parte de los individuos.\n",
       "\n",
       "Es importante resaltar que estos cambios normativos propuestos en el DNU, de ser implementados, implicarían un cambio significativo en la regulación y el mercado de los servicios de salud en Argentina, tanto para los prestadores como para los usuarios. Las obras sociales, que en Argentina funcionan como entidades de seguro de salud obligatorio y que están integradas al sistema de salud, al igual que las empresas de medicina prepaga, que ofrecen coberturas adicionales de manera voluntaria, podrían ver transformadas sus estructuras de costos, competencia en el mercado y regulaciones que definen su operar.\n",
       "\n",
       "En este análisis, es crucial remarcar que, mientras el DNU hace mención de estas reformas, deberá haber una reglamentación posterior que defina los detalles y mecanismos específicos de aplicación, al tiempo que los efectos en la competencia y precios deben ser estudiados cuidadosamente considerando las perspectivas de todos los actores involucrados, desde usuarios hasta proveedores de servicios de salud. Además, el DNU será sujeto de revisión y aprobación por parte del Congreso, lo cual puede conllevar debates y modificaciones en el texto final de las leyes.\n",
       "    "
      ],
      "text/plain": [
       "<IPython.core.display.Markdown object>"
      ]
     },
     "metadata": {},
     "output_type": "display_data"
    }
   ],
   "source": [
    "preguntarr('profundizame todo lo relacionado con obras sociales y prepagas. sé preciso y completo.')"
   ]
  },
  {
   "cell_type": "code",
   "execution_count": 40,
   "metadata": {},
   "outputs": [
    {
     "data": {
      "text/markdown": [
       "\n",
       "    # Pregunta\n",
       "    profundizame lo relacionado a ley de gondolas y de abastecimiento, qué implicancias conlleva. sé preciso y completo.\n",
       "\n",
       "    # Respuesta\n",
       "    La Ley de Góndolas y la de Abastecimiento son normativas del sistema legal argentino cuya derogación se propone en el decreto de necesidad y urgencia analizado. Ofreceré una descripción precisa y completa de ambas leyes y sus implicancias.  \n",
       "\n",
       "**Ley de Góndolas**:\n",
       "La Ley de Góndolas, cuya derogación se menciona en el decreto, se refiere a la Ley N° 27.545, promulgada en Argentina con la finalidad de regular la disposición de los productos en las góndolas de supermercados y establecimientos de venta minorista. Esta ley busca prevenir prácticas comerciales restrictivas y garantizar la competencia, estableciendo ciertos requisitos sobre cómo deben exhibirse los productos. Algunas implicancias y características de esta ley son:\n",
       "\n",
       "1. **Diversidad**: La ley busca fomentar la oferta de marcas diversas en las góndolas, limitando el espacio que pueden ocupar los productos de una misma compañía o marca, para evitar posiciones dominantes.\n",
       "\n",
       "2. **Participación de PYMES**: Incluye disposiciones para asegurar espacios de venta para productos provenientes de pequeñas y medianas empresas, empresas de la agricultura familiar, campesina, indígena y de la economía popular.\n",
       "\n",
       "3. **Productos regionales y nuevos emprendimientos**: Se contempla la inclusión de secciones específicas para productos desarrollados por nuevos emprendedores y por empresas regionales.\n",
       "\n",
       "4. **Transparencia y visibilidad**: La ley establece que los establecimientos comerciales deben ofrecer variedad de marcas y disponer los productos de manera que los clientes puedan tener acceso a una oferta amplia y transparente.\n",
       "\n",
       "**Ley de Abastecimiento**:\n",
       "La Ley de Abastecimiento, mencionada en el decreto, refiere a la Ley N° 20.680. Esta ley ha sido históricamente controvertida y es una herramienta más amplia y general que busca regular las relaciones de producción, distribución y consumo, con el fin de asegurar el abastecimiento. Las implicancias de esta ley incluyen:\n",
       "\n",
       "1. **Intervención estatal**: Faculta al gobierno a intervenir en casi todas las etapas de la economía con objeto de garantizar el abastecimiento normal y razonable de todos los bienes y servicios esenciales para la comunidad.\n",
       "\n",
       "2. **Medidas excepcionales**: Permite al Estado argentino dictar medidas de alcance general o particular, como la fijación de márgenes de utilidades, control de precios, requisición de bienes, entre otros.\n",
       "\n",
       "3. **Sanciones**: Prevé sanciones económicas y hasta de clausura para aquellas empresas que no cumplan con las disposiciones del gobierno en materia de precios y abastecimiento.\n",
       "\n",
       "La derogación de ambas leyes en el marco del decreto implicaría una eliminación de ciertos controles y regulaciones impuestas al mercado. Como consecuencia, se reduciría la intervención del Estado en la actividad económica, promoviendo un sistema económico más desregulado, donde las fuerzas del mercado tendrían un rol preponderante en la determinación de precios y distribución de bienes y servicios. Sin embargo, es importante mencionar que la derogación de estas leyes podría tener efectos significativos en la estructura de mercado, posiblemente afectando a las PYMES y a la competencia, ya que se eliminarían los mecanismos legales que promueven la diversidad de oferta y protegen contra las prácticas de dominio de mercado por parte de grandes empresas.\n",
       "    "
      ],
      "text/plain": [
       "<IPython.core.display.Markdown object>"
      ]
     },
     "metadata": {},
     "output_type": "display_data"
    }
   ],
   "source": [
    "preguntarr('profundizame lo relacionado a ley de gondolas y de abastecimiento, qué implicancias conlleva. sé preciso y completo.')"
   ]
  }
 ],
 "metadata": {
  "kernelspec": {
   "display_name": "Python 3",
   "language": "python",
   "name": "python3"
  },
  "language_info": {
   "codemirror_mode": {
    "name": "ipython",
    "version": 3
   },
   "file_extension": ".py",
   "mimetype": "text/x-python",
   "name": "python",
   "nbconvert_exporter": "python",
   "pygments_lexer": "ipython3",
   "version": "3.9.0"
  }
 },
 "nbformat": 4,
 "nbformat_minor": 2
}
